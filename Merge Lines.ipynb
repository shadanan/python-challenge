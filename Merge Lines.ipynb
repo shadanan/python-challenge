{
 "metadata": {
  "name": "Merge Lines"
 },
 "nbformat": 3,
 "nbformat_minor": 0,
 "worksheets": [
  {
   "cells": [
    {
     "cell_type": "code",
     "collapsed": false,
     "input": [
      "#!/usr/bin/env python\n",
      "# encoding: utf-8\n",
      "\n",
      "# Start at: http://www.pythonchallenge.com/pc/return/balloons.html\n",
      "# Can you tell the difference? It is the brightness...\n",
      "# http://www.pythonchallenge.com/pc/return/brightness.html\n",
      "# Source says: consider deltas.gz\n",
      "# wget http://www.pythonchallenge.com/pc/return/deltas.gz\n",
      "# gunzip deltas.gz\n",
      "\n",
      "def to_binary(string):\n",
      "    return \n",
      "    \n",
      "left = []\n",
      "right = []\n",
      "li, ri = (0, 0)\n",
      "bin_data = []\n",
      "\n",
      "fp = open('deltas', 'r')\n",
      "data = fp.read()\n",
      "fp.close()\n",
      "\n",
      "for line in data.splitlines():\n",
      "    data = line[0:53].strip()\n",
      "    if data != '':\n",
      "        left.append(data)\n",
      "\n",
      "    data = line[56:].strip()\n",
      "    if data != '':\n",
      "        right.append(data)\n",
      "\n",
      "fp = open('deltas.png', 'w')\n",
      "\n",
      "while li < len(left) or ri < len(right):\n",
      "    if li == len(left):\n",
      "        ri += 1\n",
      "    \n",
      "    elif ri == len(right):\n",
      "        li += 1\n",
      "    \n",
      "    elif left[li] == right[ri]:\n",
      "        fp.write(\"\".join([chr(int(x, 16)) for x in left[li].split()]))\n",
      "        li += 1\n",
      "        ri += 1\n",
      "    \n",
      "    elif left[li] not in right[ri:ri + 2]:\n",
      "        li += 1\n",
      "    \n",
      "    elif right[ri] not in left[li:li + 2]:\n",
      "        ri += 1\n",
      "\n",
      "fp.close()\n",
      "\n",
      "# Open the file 'deltas.png' and you get"
     ],
     "language": "python",
     "metadata": {},
     "outputs": [],
     "prompt_number": 19
    },
    {
     "cell_type": "code",
     "collapsed": false,
     "input": [
      "(0, 1, 2, 3)[0:1]"
     ],
     "language": "python",
     "metadata": {},
     "outputs": [
      {
       "output_type": "pyout",
       "prompt_number": 15,
       "text": [
        "(0,)"
       ]
      }
     ],
     "prompt_number": 15
    },
    {
     "cell_type": "code",
     "collapsed": false,
     "input": [],
     "language": "python",
     "metadata": {},
     "outputs": []
    }
   ],
   "metadata": {}
  }
 ]
}